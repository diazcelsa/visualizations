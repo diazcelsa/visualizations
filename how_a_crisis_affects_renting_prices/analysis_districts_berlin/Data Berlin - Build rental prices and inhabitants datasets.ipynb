{
 "cells": [
  {
   "cell_type": "code",
   "execution_count": 13,
   "metadata": {},
   "outputs": [],
   "source": [
    "import pandas as pd"
   ]
  },
  {
   "cell_type": "code",
   "execution_count": 42,
   "metadata": {},
   "outputs": [],
   "source": [
    "def flattenColumn(input, column):\n",
    "    column_flat = pd.DataFrame([[i, c_flattened] for i, y in input[column].apply(list).iteritems() for c_flattened in y], columns=['I', column])\n",
    "    column_flat = column_flat.set_index('I')\n",
    "    return input.drop(column, 1).merge(column_flat, left_index=True, right_index=True)"
   ]
  },
  {
   "cell_type": "markdown",
   "metadata": {},
   "source": [
    "### Build rent prices data set [2009-2017]"
   ]
  },
  {
   "cell_type": "code",
   "execution_count": 43,
   "metadata": {},
   "outputs": [],
   "source": [
    "rent_prices = pd.read_json(\"./data/renting_prices.json\")\n",
    "plz_to_district = pd.read_json(\"./data/berlin_plz.json\", orient=\"records\")\n",
    "\n",
    "plz_to_district = plz_to_district.T.reset_index().rename(columns={'index': 'district',0: 'post_code'})\n",
    "plz_to_district = flattenColumn(plz_to_district, 'post_code')"
   ]
  },
  {
   "cell_type": "code",
   "execution_count": 44,
   "metadata": {},
   "outputs": [],
   "source": [
    "rent_prices = rent_prices.merge(plz_to_district, left_on=\"zip\", right_on=\"post_code\").drop(['zip','post_code'], \n",
    "                                                                                               axis=1)\n",
    "rent_prices = rent_prices.groupby(['district','year'], as_index=False).mean()"
   ]
  },
  {
   "cell_type": "code",
   "execution_count": 45,
   "metadata": {},
   "outputs": [],
   "source": [
    "rent_prices.to_csv('./data/rent_prices_until_15.csv', index=False, encoding=\"utf-8\")"
   ]
  },
  {
   "cell_type": "code",
   "execution_count": 6,
   "metadata": {},
   "outputs": [],
   "source": [
    "rent_prices = pd.read_csv(\"./data/rent_prices_until_17.csv\",sep=\"\\t\")"
   ]
  },
  {
   "cell_type": "code",
   "execution_count": 8,
   "metadata": {},
   "outputs": [
    {
     "data": {
      "text/html": [
       "<div>\n",
       "<style scoped>\n",
       "    .dataframe tbody tr th:only-of-type {\n",
       "        vertical-align: middle;\n",
       "    }\n",
       "\n",
       "    .dataframe tbody tr th {\n",
       "        vertical-align: top;\n",
       "    }\n",
       "\n",
       "    .dataframe thead th {\n",
       "        text-align: right;\n",
       "    }\n",
       "</style>\n",
       "<table border=\"1\" class=\"dataframe\">\n",
       "  <thead>\n",
       "    <tr style=\"text-align: right;\">\n",
       "      <th></th>\n",
       "      <th>district</th>\n",
       "      <th>year</th>\n",
       "      <th>rent_cold</th>\n",
       "    </tr>\n",
       "  </thead>\n",
       "  <tbody>\n",
       "    <tr>\n",
       "      <th>0</th>\n",
       "      <td>Charlottenburg-Wilmersdorf</td>\n",
       "      <td>2009</td>\n",
       "      <td>6.994545</td>\n",
       "    </tr>\n",
       "    <tr>\n",
       "      <th>1</th>\n",
       "      <td>Charlottenburg-Wilmersdorf</td>\n",
       "      <td>2010</td>\n",
       "      <td>7.370606</td>\n",
       "    </tr>\n",
       "  </tbody>\n",
       "</table>\n",
       "</div>"
      ],
      "text/plain": [
       "                     district  year  rent_cold\n",
       "0  Charlottenburg-Wilmersdorf  2009   6.994545\n",
       "1  Charlottenburg-Wilmersdorf  2010   7.370606"
      ]
     },
     "execution_count": 8,
     "metadata": {},
     "output_type": "execute_result"
    }
   ],
   "source": [
    "rent_prices.head(2)"
   ]
  },
  {
   "cell_type": "markdown",
   "metadata": {},
   "source": [
    "### Build real state transactions dataset"
   ]
  },
  {
   "cell_type": "code",
   "execution_count": 64,
   "metadata": {},
   "outputs": [],
   "source": [
    "imm_trans = pd.read_csv(\"./data/wohnimmobilien_transaktion.csv\")"
   ]
  },
  {
   "cell_type": "code",
   "execution_count": 83,
   "metadata": {},
   "outputs": [
    {
     "data": {
      "text/plain": [
       "array([2013, 2014, 2015, 2016, 2017])"
      ]
     },
     "execution_count": 83,
     "metadata": {},
     "output_type": "execute_result"
    }
   ],
   "source": [
    "imm_trans.year.unique()"
   ]
  },
  {
   "cell_type": "code",
   "execution_count": 72,
   "metadata": {},
   "outputs": [],
   "source": [
    "imm_trans = imm_trans.sort_values(by=\"year\")"
   ]
  },
  {
   "cell_type": "code",
   "execution_count": 66,
   "metadata": {},
   "outputs": [],
   "source": [
    "names = list(imm_trans['Käufer'].unique())\n",
    "add = list(imm_trans['Verkäufer'].unique())"
   ]
  },
  {
   "cell_type": "code",
   "execution_count": 67,
   "metadata": {},
   "outputs": [],
   "source": [
    "names.extend(x for x in add if x not in names)"
   ]
  },
  {
   "cell_type": "code",
   "execution_count": 69,
   "metadata": {},
   "outputs": [
    {
     "data": {
      "text/plain": [
       "78"
      ]
     },
     "execution_count": 69,
     "metadata": {},
     "output_type": "execute_result"
    }
   ],
   "source": [
    "len(names)"
   ]
  },
  {
   "cell_type": "code",
   "execution_count": 79,
   "metadata": {},
   "outputs": [],
   "source": [
    "mill_buy = imm_trans.loc[:,('Käufer','Kaufpreis in Mio. €, ca.')].groupby(['Käufer'], as_index=False).sum()\n",
    "n_flat_buy = imm_trans.loc[:,('Käufer','Anzahl der Wohnungen, ca.')].groupby(['Käufer'], as_index=False).sum()\n",
    "mill_sell = imm_trans.loc[:,('Verkäufer','Kaufpreis in Mio. €, ca.')].groupby(['Verkäufer'], as_index=False).sum()\n",
    "n_flat_sell = imm_trans.loc[:,('Verkäufer','Anzahl der Wohnungen, ca.')].groupby(['Verkäufer'], as_index=False).sum()"
   ]
  },
  {
   "cell_type": "code",
   "execution_count": 82,
   "metadata": {},
   "outputs": [
    {
     "name": "stdout",
     "output_type": "stream",
     "text": [
      "10776.5 55552.949 10834.5 55717.94899999999\n"
     ]
    }
   ],
   "source": [
    "print(mill_buy['Kaufpreis in Mio. €, ca.'].sum(), n_flat_buy['Anzahl der Wohnungen, ca.'].sum(),\n",
    "      mill_sell['Kaufpreis in Mio. €, ca.'].sum(), n_flat_sell['Anzahl der Wohnungen, ca.'].sum())"
   ]
  },
  {
   "cell_type": "code",
   "execution_count": null,
   "metadata": {},
   "outputs": [],
   "source": []
  }
 ],
 "metadata": {
  "kernelspec": {
   "display_name": "Python 3",
   "language": "python",
   "name": "python3"
  },
  "language_info": {
   "codemirror_mode": {
    "name": "ipython",
    "version": 3
   },
   "file_extension": ".py",
   "mimetype": "text/x-python",
   "name": "python",
   "nbconvert_exporter": "python",
   "pygments_lexer": "ipython3",
   "version": "3.6.2"
  }
 },
 "nbformat": 4,
 "nbformat_minor": 2
}
