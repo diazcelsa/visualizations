{
 "cells": [
  {
   "cell_type": "code",
   "execution_count": 1,
   "metadata": {},
   "outputs": [],
   "source": [
    "import pandas as pd\n",
    "import numpy as np\n",
    "import seaborn as sns\n",
    "import matplotlib.pyplot as plt\n",
    "import datetime\n",
    "import warnings\n",
    "warnings.filterwarnings('ignore')\n",
    "%matplotlib inline"
   ]
  },
  {
   "cell_type": "markdown",
   "metadata": {},
   "source": [
    "### Load Berlin data: Airbnb & inhabitants per district in 2017"
   ]
  },
  {
   "cell_type": "code",
   "execution_count": 2,
   "metadata": {},
   "outputs": [],
   "source": [
    "# Load airbnb berlin historical data\n",
    "link_location_airbnb_data = \"http://insideairbnb.com/get-the-data.html\"\n",
    "airbnb_listings = pd.read_csv('./data/listings_airbnb_berlin.csv')\n",
    "airbnb_reviews = pd.read_csv('./data/reviews_airbnb_berlin.csv')\n",
    "\n",
    "# Assign reviews to each listing\n",
    "airbnb = airbnb_listings.merge(airbnb_reviews, left_on='id', right_on='listing_id').rename(columns={'date':'date_review'})\n",
    "\n",
    "# Load population of berlin data for 2017\n",
    "n_inhabitants = pd.read_csv('./data/inhabitants_berlin_17.csv',sep='\\t')\n",
    "n_inhabitants['n_inhabitants'] = n_inhabitants['n_inhabitants'].astype(int)"
   ]
  },
  {
   "cell_type": "code",
   "execution_count": 3,
   "metadata": {},
   "outputs": [
    {
     "data": {
      "text/html": [
       "<div>\n",
       "<style scoped>\n",
       "    .dataframe tbody tr th:only-of-type {\n",
       "        vertical-align: middle;\n",
       "    }\n",
       "\n",
       "    .dataframe tbody tr th {\n",
       "        vertical-align: top;\n",
       "    }\n",
       "\n",
       "    .dataframe thead th {\n",
       "        text-align: right;\n",
       "    }\n",
       "</style>\n",
       "<table border=\"1\" class=\"dataframe\">\n",
       "  <thead>\n",
       "    <tr style=\"text-align: right;\">\n",
       "      <th></th>\n",
       "      <th>district</th>\n",
       "      <th>n_inhabitants</th>\n",
       "    </tr>\n",
       "  </thead>\n",
       "  <tbody>\n",
       "    <tr>\n",
       "      <th>0</th>\n",
       "      <td>Mitte</td>\n",
       "      <td>373944</td>\n",
       "    </tr>\n",
       "    <tr>\n",
       "      <th>1</th>\n",
       "      <td>Friedrichshain-Kreuzberg</td>\n",
       "      <td>281860</td>\n",
       "    </tr>\n",
       "    <tr>\n",
       "      <th>2</th>\n",
       "      <td>Pankow</td>\n",
       "      <td>398732</td>\n",
       "    </tr>\n",
       "    <tr>\n",
       "      <th>3</th>\n",
       "      <td>Charlottenburg-Wilm.</td>\n",
       "      <td>338405</td>\n",
       "    </tr>\n",
       "    <tr>\n",
       "      <th>4</th>\n",
       "      <td>Spandau</td>\n",
       "      <td>240998</td>\n",
       "    </tr>\n",
       "    <tr>\n",
       "      <th>5</th>\n",
       "      <td>Steglitz - Zehlendorf</td>\n",
       "      <td>305430</td>\n",
       "    </tr>\n",
       "    <tr>\n",
       "      <th>6</th>\n",
       "      <td>Tempelhof - Schöneberg</td>\n",
       "      <td>347927</td>\n",
       "    </tr>\n",
       "    <tr>\n",
       "      <th>7</th>\n",
       "      <td>Neukölln</td>\n",
       "      <td>328659</td>\n",
       "    </tr>\n",
       "    <tr>\n",
       "      <th>8</th>\n",
       "      <td>Treptow - Köpenick</td>\n",
       "      <td>262543</td>\n",
       "    </tr>\n",
       "    <tr>\n",
       "      <th>9</th>\n",
       "      <td>Marzahn - Hellersdorf</td>\n",
       "      <td>264461</td>\n",
       "    </tr>\n",
       "    <tr>\n",
       "      <th>10</th>\n",
       "      <td>Lichtenberg</td>\n",
       "      <td>283334</td>\n",
       "    </tr>\n",
       "    <tr>\n",
       "      <th>11</th>\n",
       "      <td>Reinickendorf</td>\n",
       "      <td>262683</td>\n",
       "    </tr>\n",
       "  </tbody>\n",
       "</table>\n",
       "</div>"
      ],
      "text/plain": [
       "                    district  n_inhabitants\n",
       "0                      Mitte         373944\n",
       "1   Friedrichshain-Kreuzberg         281860\n",
       "2                     Pankow         398732\n",
       "3       Charlottenburg-Wilm.         338405\n",
       "4                    Spandau         240998\n",
       "5      Steglitz - Zehlendorf         305430\n",
       "6     Tempelhof - Schöneberg         347927\n",
       "7                   Neukölln         328659\n",
       "8         Treptow - Köpenick         262543\n",
       "9      Marzahn - Hellersdorf         264461\n",
       "10               Lichtenberg         283334\n",
       "11             Reinickendorf         262683"
      ]
     },
     "execution_count": 3,
     "metadata": {},
     "output_type": "execute_result"
    }
   ],
   "source": [
    "n_inhabitants"
   ]
  },
  {
   "cell_type": "markdown",
   "metadata": {},
   "source": [
    "### Calculate Airbnb KPIs"
   ]
  },
  {
   "cell_type": "code",
   "execution_count": 3,
   "metadata": {},
   "outputs": [],
   "source": [
    "# Transform Airbnb reviews/listings for visualizations\n",
    "# Extract years of host registration, listing first review and each review\n",
    "airbnb['date_review_year'] = pd.to_datetime(airbnb['date_review']).dt.year\n",
    "airbnb['date_review_year'] = airbnb['date_review_year'].fillna(0).astype(int)\n",
    "\n",
    "airbnb['first_review_year'] = pd.to_datetime(airbnb['first_review']).dt.year\n",
    "airbnb['first_review_year'] = airbnb['first_review_year'].fillna(0).astype(int)\n",
    "\n",
    "airbnb['host_since_year'] = pd.to_datetime(airbnb['host_since']).dt.year\n",
    "airbnb['host_since_year'] = airbnb['host_since_year'].fillna(0).astype(int)\n",
    "\n",
    "# Calculate dataframe with one record per unique listing\n",
    "n_listings = airbnb.groupby(['id'], as_index=False).first().rename(columns={'id':'listing_id'})\n",
    "\n",
    "# Calculate dataframe with one record per unique host\n",
    "n_hosts = n_listings.groupby(['host_id'], as_index=False).first()\n",
    "\n",
    "# Calculate number of listings per year of first review and type of room\n",
    "n_listings_room_type = n_listings.groupby(['first_review_year','room_type'], as_index=False).count()\n",
    "n_listings_room_type = n_listings_room_type.loc[:,(\"first_review_year\",\"host_id\",\"room_type\")]\n",
    "\n",
    "# Definition of host type\n",
    "# if 1 listing and shared -> sharing airbnb\n",
    "# if 1 listing and entire appartment -> complete flat airbnb\n",
    "# if > 1 listing -> business airbnb\n",
    "user_type_identifier = n_listings.loc[:,('host_id','host_total_listings_count','first_review_year','room_type')]\n",
    "user_type_identifier['host_type'] = 'share_airbnb'\n",
    "user_type_identifier.loc[user_type_identifier['host_total_listings_count'] > 1,'host_type'] = 'business_airbnb'\n",
    "user_type_identifier.loc[(user_type_identifier['host_total_listings_count'] == 1) &\\\n",
    "                         (user_type_identifier['room_type'] == 'Entire home/apt'),'host_type'] = 'flat_airbnb'\n",
    "user_type_identifier = user_type_identifier[user_type_identifier['first_review_year'] != 0]\n",
    "n_list_type_evol = user_type_identifier.copy()\n",
    "user_type_identifier = user_type_identifier.loc[:,('host_id','host_type')].drop_duplicates()\n",
    "\n",
    "# build data sets of number of listings per year of listing first review per host type\n",
    "n_list_type_evol_ = n_list_type_evol.groupby(['first_review_year','host_type'], as_index=False).count()\n",
    "\n",
    "# build data sets of number of reviews per year of listing first review per host type\n",
    "n_revs_type_evol = airbnb.loc[:,('listing_id','host_id','date_review_year')].merge(user_type_identifier, \n",
    "                                                                                  left_on='host_id', \n",
    "                                                                                  right_on='host_id')\n",
    "n_revs_type_evol_ = n_revs_type_evol.groupby(['date_review_year','host_type'], as_index=False).count()\n",
    "\n",
    "# save data\n",
    "n_revs_type_evol_ = n_revs_type_evol_.loc[:,('date_review_year','host_type',\n",
    "                                             'listing_id')].rename(columns={'listing_id':'n_reviews'})\n",
    "n_revs_type_evol_.to_csv('./data/n_reviews_year_host_type_berlin.csv', index=False, encoding='utf-8')\n",
    "\n",
    "n_list_type_evol.to_csv('./data/n_listings_year_host_type_room_type_berlin.csv', index=False, encoding='utf-8')"
   ]
  },
  {
   "cell_type": "code",
   "execution_count": 4,
   "metadata": {},
   "outputs": [],
   "source": [
    "# Calculate number of listings per district per 1000 inhabitants\n",
    "n_list_inhab = airbnb[(airbnb['date_review_year']==2017) & \\\n",
    "                       ~(airbnb['neighbourhood_group_cleansed'].isnull())]\n",
    "n_list_inhab = n_list_inhab.loc[:,('listing_id','neighbourhood_group_cleansed','date_review_year')]\n",
    "n_list_inhab = n_list_inhab.groupby(['listing_id'], as_index=False).first().groupby(['neighbourhood_group_cleansed'], \n",
    "                                                                     as_index=False).count()\n",
    "\n",
    "# Calculate the ratio of listings per 1000 inhabitants per district\n",
    "n_list_inhab_ = n_list_inhab.merge(n_inhabitants, left_on='neighbourhood_group_cleansed', right_on='district')\n",
    "n_list_inhab_['n_list_inh_1000'] = n_list_inhab_['listing_id']/n_list_inhab_['n_inhabitants']*1000\n",
    "n_list_inhab_ = n_list_inhab_.loc[:,('district','listing_id','n_inhabitants','n_list_inh_1000')]\n",
    "\n",
    "# save data\n",
    "n_list_inhab_.to_csv('./data/n_airbnb_listings_1000_inhab_district_berlin.csv', index=False, encoding='utf-8')"
   ]
  },
  {
   "cell_type": "markdown",
   "metadata": {},
   "source": [
    "### Quickly visualize Airbnb KPIs"
   ]
  },
  {
   "cell_type": "code",
   "execution_count": 5,
   "metadata": {},
   "outputs": [
    {
     "data": {
      "text/html": [
       "<div>\n",
       "<style scoped>\n",
       "    .dataframe tbody tr th:only-of-type {\n",
       "        vertical-align: middle;\n",
       "    }\n",
       "\n",
       "    .dataframe tbody tr th {\n",
       "        vertical-align: top;\n",
       "    }\n",
       "\n",
       "    .dataframe thead th {\n",
       "        text-align: right;\n",
       "    }\n",
       "</style>\n",
       "<table border=\"1\" class=\"dataframe\">\n",
       "  <thead>\n",
       "    <tr style=\"text-align: right;\">\n",
       "      <th></th>\n",
       "      <th>district</th>\n",
       "      <th>listing_id</th>\n",
       "      <th>n_inhabitants</th>\n",
       "      <th>n_list_inh_1000</th>\n",
       "    </tr>\n",
       "  </thead>\n",
       "  <tbody>\n",
       "    <tr>\n",
       "      <th>0</th>\n",
       "      <td>Charlottenburg-Wilm.</td>\n",
       "      <td>707</td>\n",
       "      <td>338405</td>\n",
       "      <td>2.089213</td>\n",
       "    </tr>\n",
       "    <tr>\n",
       "      <th>1</th>\n",
       "      <td>Friedrichshain-Kreuzberg</td>\n",
       "      <td>2385</td>\n",
       "      <td>281860</td>\n",
       "      <td>8.461648</td>\n",
       "    </tr>\n",
       "    <tr>\n",
       "      <th>2</th>\n",
       "      <td>Lichtenberg</td>\n",
       "      <td>261</td>\n",
       "      <td>283334</td>\n",
       "      <td>0.921174</td>\n",
       "    </tr>\n",
       "    <tr>\n",
       "      <th>3</th>\n",
       "      <td>Marzahn - Hellersdorf</td>\n",
       "      <td>45</td>\n",
       "      <td>264461</td>\n",
       "      <td>0.170157</td>\n",
       "    </tr>\n",
       "    <tr>\n",
       "      <th>4</th>\n",
       "      <td>Mitte</td>\n",
       "      <td>2094</td>\n",
       "      <td>373944</td>\n",
       "      <td>5.599769</td>\n",
       "    </tr>\n",
       "    <tr>\n",
       "      <th>5</th>\n",
       "      <td>Neukölln</td>\n",
       "      <td>1376</td>\n",
       "      <td>328659</td>\n",
       "      <td>4.186710</td>\n",
       "    </tr>\n",
       "    <tr>\n",
       "      <th>6</th>\n",
       "      <td>Pankow</td>\n",
       "      <td>1598</td>\n",
       "      <td>398732</td>\n",
       "      <td>4.007704</td>\n",
       "    </tr>\n",
       "    <tr>\n",
       "      <th>7</th>\n",
       "      <td>Reinickendorf</td>\n",
       "      <td>99</td>\n",
       "      <td>262683</td>\n",
       "      <td>0.376880</td>\n",
       "    </tr>\n",
       "    <tr>\n",
       "      <th>8</th>\n",
       "      <td>Spandau</td>\n",
       "      <td>45</td>\n",
       "      <td>240998</td>\n",
       "      <td>0.186724</td>\n",
       "    </tr>\n",
       "    <tr>\n",
       "      <th>9</th>\n",
       "      <td>Steglitz - Zehlendorf</td>\n",
       "      <td>171</td>\n",
       "      <td>305430</td>\n",
       "      <td>0.559866</td>\n",
       "    </tr>\n",
       "    <tr>\n",
       "      <th>10</th>\n",
       "      <td>Tempelhof - Schöneberg</td>\n",
       "      <td>613</td>\n",
       "      <td>347927</td>\n",
       "      <td>1.761864</td>\n",
       "    </tr>\n",
       "    <tr>\n",
       "      <th>11</th>\n",
       "      <td>Treptow - Köpenick</td>\n",
       "      <td>231</td>\n",
       "      <td>262543</td>\n",
       "      <td>0.879856</td>\n",
       "    </tr>\n",
       "  </tbody>\n",
       "</table>\n",
       "</div>"
      ],
      "text/plain": [
       "                    district  listing_id  n_inhabitants  n_list_inh_1000\n",
       "0       Charlottenburg-Wilm.         707         338405         2.089213\n",
       "1   Friedrichshain-Kreuzberg        2385         281860         8.461648\n",
       "2                Lichtenberg         261         283334         0.921174\n",
       "3      Marzahn - Hellersdorf          45         264461         0.170157\n",
       "4                      Mitte        2094         373944         5.599769\n",
       "5                   Neukölln        1376         328659         4.186710\n",
       "6                     Pankow        1598         398732         4.007704\n",
       "7              Reinickendorf          99         262683         0.376880\n",
       "8                    Spandau          45         240998         0.186724\n",
       "9      Steglitz - Zehlendorf         171         305430         0.559866\n",
       "10    Tempelhof - Schöneberg         613         347927         1.761864\n",
       "11        Treptow - Köpenick         231         262543         0.879856"
      ]
     },
     "execution_count": 5,
     "metadata": {},
     "output_type": "execute_result"
    }
   ],
   "source": [
    "n_list_inhab_"
   ]
  },
  {
   "cell_type": "code",
   "execution_count": 14,
   "metadata": {},
   "outputs": [
    {
     "data": {
      "text/plain": [
       "<matplotlib.text.Text at 0x11381a860>"
      ]
     },
     "execution_count": 14,
     "metadata": {},
     "output_type": "execute_result"
    },
    {
     "data": {
      "image/png": "[encoded data removed]",
      "text/plain": [
       "<matplotlib.figure.Figure at 0x1137716d8>"
      ]
     },
     "metadata": {},
     "output_type": "display_data"
    }
   ],
   "source": [
    "sns.countplot(airbnb.date_review_year)\n",
    "plt.title(\"Evolution of number of total reviews\")"
   ]
  },
  {
   "cell_type": "code",
   "execution_count": 15,
   "metadata": {},
   "outputs": [
    {
     "data": {
      "text/plain": [
       "<matplotlib.text.Text at 0x1137417b8>"
      ]
     },
     "execution_count": 15,
     "metadata": {},
     "output_type": "execute_result"
    },
    {
     "data": {
      "image/png": "[encoded data removed]",
      "text/plain": [
       "<matplotlib.figure.Figure at 0x11716c8d0>"
      ]
     },
     "metadata": {},
     "output_type": "display_data"
    }
   ],
   "source": [
    "sns.countplot(x=\"date_review_year\",hue=\"room_type\",data=airbnb)\n",
    "plt.title(\"Evolution of number of total reviews per room type\")"
   ]
  },
  {
   "cell_type": "code",
   "execution_count": 16,
   "metadata": {},
   "outputs": [
    {
     "data": {
      "text/plain": [
       "<matplotlib.text.Text at 0x113c18a20>"
      ]
     },
     "execution_count": 16,
     "metadata": {},
     "output_type": "execute_result"
    },
    {
     "data": {
      "image/png": "[encoded data removed]",
      "text/plain": [
       "<matplotlib.figure.Figure at 0x1162c8c18>"
      ]
     },
     "metadata": {},
     "output_type": "display_data"
    }
   ],
   "source": [
    "# number of host registered per year\n",
    "sns.countplot(n_hosts.host_since_year)\n",
    "plt.title(\"Evolution of number of total hosts registered per year\")"
   ]
  },
  {
   "cell_type": "code",
   "execution_count": 17,
   "metadata": {},
   "outputs": [
    {
     "data": {
      "text/plain": [
       "<matplotlib.text.Text at 0x1170cf780>"
      ]
     },
     "execution_count": 17,
     "metadata": {},
     "output_type": "execute_result"
    },
    {
     "data": {
      "image/png": "[encoded data removed]",
      "text/plain": [
       "<matplotlib.figure.Figure at 0x113c1c8d0>"
      ]
     },
     "metadata": {},
     "output_type": "display_data"
    }
   ],
   "source": [
    "# number of listings per year that the listing was registered\n",
    "sns.countplot(n_listings.first_review_year)\n",
    "plt.title(\"Evolution of number of total listings per year when the first review was written\")"
   ]
  },
  {
   "cell_type": "code",
   "execution_count": 23,
   "metadata": {},
   "outputs": [
    {
     "data": {
      "text/plain": [
       "<matplotlib.text.Text at 0x1163692e8>"
      ]
     },
     "execution_count": 23,
     "metadata": {},
     "output_type": "execute_result"
    },
    {
     "data": {
      "image/png": "[encoded data removed]",
      "text/plain": [
       "<matplotlib.figure.Figure at 0x116744748>"
      ]
     },
     "metadata": {},
     "output_type": "display_data"
    }
   ],
   "source": [
    "sns.barplot(x='first_review_year', y='host_id',hue='host_type',data=n_list_type_evol_)\n",
    "plt.title(\"Evolution number of listings per host type\")"
   ]
  },
  {
   "cell_type": "code",
   "execution_count": 20,
   "metadata": {},
   "outputs": [
    {
     "data": {
      "text/plain": [
       "<matplotlib.text.Text at 0x11658ee10>"
      ]
     },
     "execution_count": 20,
     "metadata": {},
     "output_type": "execute_result"
    },
    {
     "data": {
      "image/png": "[encoded data removed]",
      "text/plain": [
       "<matplotlib.figure.Figure at 0x113c22ef0>"
      ]
     },
     "metadata": {},
     "output_type": "display_data"
    }
   ],
   "source": [
    "sns.barplot(x='date_review_year', y='n_reviews',hue='host_type',data=n_revs_type_evol_)\n",
    "plt.title(\"Evolution number of reviews per host type\")"
   ]
  },
  {
   "cell_type": "code",
   "execution_count": null,
   "metadata": {},
   "outputs": [],
   "source": []
  }
 ],
 "metadata": {
  "kernelspec": {
   "display_name": "Python 3",
   "language": "python",
   "name": "python3"
  },
  "language_info": {
   "codemirror_mode": {
    "name": "ipython",
    "version": 3
   },
   "file_extension": ".py",
   "mimetype": "text/x-python",
   "name": "python",
   "nbconvert_exporter": "python",
   "pygments_lexer": "ipython3",
   "version": "3.6.2"
  }
 },
 "nbformat": 4,
 "nbformat_minor": 2
}
