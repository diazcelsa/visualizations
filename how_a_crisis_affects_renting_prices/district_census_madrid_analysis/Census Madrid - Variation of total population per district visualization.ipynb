{
 "cells": [
  {
   "cell_type": "markdown",
   "metadata": {},
   "source": [
    "# Visualization of Census data at district level\n",
    "\n",
    "We want to create visualizations that answer the following questions:\n",
    "* District levels' of decrease or increase in spanish/foreign population at age ranges: 0-25, 26-40, 41-65, 66-85, 86-100\n",
    "* General increase or decrease cummulative ratios on the population for each of the age-ranges compearing spanish vs foreign"
   ]
  },
  {
   "cell_type": "code",
   "execution_count": 2,
   "metadata": {
    "collapsed": true
   },
   "outputs": [],
   "source": [
    "import pandas as pd\n",
    "import numpy as np\n",
    "import folium\n",
    "from sklearn.preprocessing import MinMaxScaler\n",
    "from folium.features import DivIcon\n",
    "from IPython.display import HTML"
   ]
  },
  {
   "cell_type": "markdown",
   "metadata": {
    "collapsed": true
   },
   "source": [
    "### 1. Load, select segments and aggregate data by age range"
   ]
  },
  {
   "cell_type": "code",
   "execution_count": 3,
   "metadata": {
    "collapsed": true
   },
   "outputs": [],
   "source": [
    "# Load census data from Madrid\n",
    "census = pd.read_csv('./data/census_madrid_agg_segments.csv')\n",
    "\n",
    "# Districts data\n",
    "district_dict = pd.read_csv('./data/districts_dict.csv')\n",
    "districts_geo = open('./data/districts_madrid.geojson').read()"
   ]
  },
  {
   "cell_type": "code",
   "execution_count": 4,
   "metadata": {},
   "outputs": [
    {
     "name": "stderr",
     "output_type": "stream",
     "text": [
      "/Users/celsadiaz/.pyenv/versions/3.6.2/envs/visualizations/lib/python3.6/site-packages/ipykernel_launcher.py:2: DeprecationWarning: \n",
      ".ix is deprecated. Please use\n",
      ".loc for label based indexing or\n",
      ".iloc for positional indexing\n",
      "\n",
      "See the documentation here:\n",
      "http://pandas.pydata.org/pandas-docs/stable/indexing.html#ix-indexer-is-deprecated\n",
      "  \n"
     ]
    }
   ],
   "source": [
    "census_sel = census[(census['year']==2017) & (census['age_range']!='Total')]\n",
    "census_sel = census_sel.ix[:,['district','age_range','total_ratio']]"
   ]
  },
  {
   "cell_type": "code",
   "execution_count": 5,
   "metadata": {},
   "outputs": [
    {
     "data": {
      "text/html": [
       "<div>\n",
       "<style>\n",
       "    .dataframe thead tr:only-child th {\n",
       "        text-align: right;\n",
       "    }\n",
       "\n",
       "    .dataframe thead th {\n",
       "        text-align: left;\n",
       "    }\n",
       "\n",
       "    .dataframe tbody tr th {\n",
       "        vertical-align: top;\n",
       "    }\n",
       "</style>\n",
       "<table border=\"1\" class=\"dataframe\">\n",
       "  <thead>\n",
       "    <tr style=\"text-align: right;\">\n",
       "      <th></th>\n",
       "      <th>district</th>\n",
       "      <th>age_range</th>\n",
       "      <th>total_ratio</th>\n",
       "    </tr>\n",
       "  </thead>\n",
       "  <tbody>\n",
       "    <tr>\n",
       "      <th>13</th>\n",
       "      <td>Arganzuela</td>\n",
       "      <td>0-24</td>\n",
       "      <td>0.830074</td>\n",
       "    </tr>\n",
       "    <tr>\n",
       "      <th>27</th>\n",
       "      <td>Arganzuela</td>\n",
       "      <td>25-39</td>\n",
       "      <td>0.872153</td>\n",
       "    </tr>\n",
       "  </tbody>\n",
       "</table>\n",
       "</div>"
      ],
      "text/plain": [
       "      district age_range  total_ratio\n",
       "13  Arganzuela      0-24     0.830074\n",
       "27  Arganzuela     25-39     0.872153"
      ]
     },
     "execution_count": 5,
     "metadata": {},
     "output_type": "execute_result"
    }
   ],
   "source": [
    "census_sel.head(2)"
   ]
  },
  {
   "cell_type": "markdown",
   "metadata": {},
   "source": [
    "### 2. Visualize spanish vs foreigners for each age range + type of variation"
   ]
  },
  {
   "cell_type": "code",
   "execution_count": 6,
   "metadata": {
    "code_folding": []
   },
   "outputs": [
    {
     "data": {
      "text/plain": [
       "<branca.element.Element at 0x10f00d6d8>"
      ]
     },
     "execution_count": 6,
     "metadata": {},
     "output_type": "execute_result"
    }
   ],
   "source": [
    "f = folium.Figure()\n",
    "f.html.add_child(folium.Element(\"<h4>Ratio of variation in the total population per districts in 2017 in comparison to 2004 per age ranges</h4>\"))\n",
    "\n",
    "center_madrid = [40.4161778,-3.7128473]\n",
    "m = folium.Map(location=center_madrid, zoom_start=13, width=1000, height=1000)\n",
    "m.choropleth(\n",
    "    geo_data=districts_geo,\n",
    "    data=census_sel[census_sel['age_range']=='0-24'],\n",
    "    threshold_scale=[0,1,2,3],\n",
    "    columns=['district', 'total_ratio'],\n",
    "    key_on='feature.properties.name',\n",
    "    fill_color='YlGn', fill_opacity=0.7, line_opacity=0.2,\n",
    "    legend_name='Age range 0-24'\n",
    "    )\n",
    "m.choropleth(\n",
    "    geo_data=districts_geo,\n",
    "    data=census_sel[census_sel['age_range']=='25-39'],\n",
    "    threshold_scale=[0,1,2,3],\n",
    "    columns=['district', 'total_ratio'],\n",
    "    key_on='feature.properties.name',\n",
    "    fill_color='OrRd', fill_opacity=0.7, line_opacity=0.2,\n",
    "    legend_name='Age range 25-39'\n",
    "    )\n",
    "m.choropleth(\n",
    "    geo_data=districts_geo,\n",
    "    data=census_sel[census_sel['age_range']=='40-64'],\n",
    "    threshold_scale=[0,1,2,3],\n",
    "    columns=['district', 'total_ratio'],\n",
    "    key_on='feature.properties.name',\n",
    "    fill_color='PuRd', fill_opacity=0.7, line_opacity=0.2,\n",
    "    legend_name='Age range 40-64'\n",
    "    )\n",
    "m.choropleth(\n",
    "    geo_data=districts_geo,\n",
    "    data=census_sel[census_sel['age_range']=='65-84'],\n",
    "    threshold_scale=[0,1,2,3],\n",
    "    columns=['district', 'total_ratio'],\n",
    "    key_on='feature.properties.name',\n",
    "    fill_color='PuBu', fill_opacity=0.7, line_opacity=0.2,\n",
    "    legend_name='Age range 65-84'\n",
    "    )\n",
    "m.choropleth(\n",
    "    geo_data=districts_geo,\n",
    "    data=census_sel[census_sel['age_range']=='85-100'],\n",
    "    threshold_scale=[0,1,2,3],\n",
    "    columns=['district', 'total_ratio'],\n",
    "    key_on='feature.properties.name',\n",
    "    fill_color='BuPu', fill_opacity=0.7, line_opacity=0.2,\n",
    "    legend_name='Age range 85-100'\n",
    "    )\n",
    "folium.LayerControl().add_to(m)\n",
    "f.add_child(m)\n",
    "f.html.add_child(folium.Element(\"<footer>Specify the age range you are more interested on by choosing unique boxes on the layer icon</footer>\"))\n",
    "#m.save('ratio_variation_total_age_range.html')\n",
    "#m"
   ]
  },
  {
   "cell_type": "code",
   "execution_count": null,
   "metadata": {
    "collapsed": true
   },
   "outputs": [],
   "source": []
  }
 ],
 "metadata": {
  "kernelspec": {
   "display_name": "Python 3",
   "language": "python",
   "name": "python3"
  },
  "language_info": {
   "codemirror_mode": {
    "name": "ipython",
    "version": 3
   },
   "file_extension": ".py",
   "mimetype": "text/x-python",
   "name": "python",
   "nbconvert_exporter": "python",
   "pygments_lexer": "ipython3",
   "version": "3.6.2"
  }
 },
 "nbformat": 4,
 "nbformat_minor": 2
}
