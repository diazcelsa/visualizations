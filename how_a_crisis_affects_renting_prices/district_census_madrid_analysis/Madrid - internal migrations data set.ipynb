{
 "cells": [
  {
   "cell_type": "code",
   "execution_count": 1,
   "metadata": {},
   "outputs": [],
   "source": [
    "import pandas as pd"
   ]
  },
  {
   "cell_type": "code",
   "execution_count": 2,
   "metadata": {},
   "outputs": [],
   "source": [
    "url = \"http://www-2.munimadrid.es/CSE6/control/seleccionDatos?numSerie=3050200010\"\n",
    "docs = [\"migrations_madrid_04.csv\",\"migrations_madrid_05.csv\",\"migrations_madrid_06.csv\",\"migrations_madrid_07.csv\",\n",
    "        \"migrations_madrid_08.csv\",\"migrations_madrid_09.csv\",\"migrations_madrid_10.csv\",\"migrations_madrid_11.csv\",\n",
    "        \"migrations_madrid_12.csv\",\"migrations_madrid_13.csv\",\"migrations_madrid_14.csv\",\"migrations_madrid_15.csv\",\n",
    "        \"migrations_madrid_16.csv\"]\n",
    "years = [2004,2005,2006,2007,2008,2009,2010,2011,2012,2013,2014,2015,2016,2017]"
   ]
  },
  {
   "cell_type": "code",
   "execution_count": 3,
   "metadata": {},
   "outputs": [],
   "source": [
    "def parse_migrations_data(file_name):\n",
    "    data = pd.read_csv(\"./data/\"+file_name, header=1)\n",
    "    data = data.set_index(\"Unnamed: 0\")\n",
    "    data = data.filter(regex='Total', axis=0)\n",
    "    data = data.filter(regex='Total', axis=1)\n",
    "    data.columns = [ i.split(\". \")[-1] for i in data.columns]\n",
    "    data.index = [ i.split(\". \")[-1] for i in data.index]\n",
    "    data = data.drop([\"Total - Ciudad de Madrid\"], axis=1)\n",
    "    data = data.iloc[1:]\n",
    "    return data"
   ]
  },
  {
   "cell_type": "code",
   "execution_count": 4,
   "metadata": {},
   "outputs": [],
   "source": [
    "madrid_17 = pd.read_csv(\"./data/migrations_madrid_17.csv\", header=1).dropna()\n",
    "madrid_17.index = [ str(i).split(\". \")[-1] for i in madrid_17[\"Unnamed: 0\"]]\n",
    "madrid_17 = madrid_17.drop([\"Unnamed: 0\",\"Unnamed: 1\"], axis=1)\n",
    "madrid_17 = madrid_17.iloc[1:]"
   ]
  },
  {
   "cell_type": "code",
   "execution_count": 5,
   "metadata": {},
   "outputs": [],
   "source": [
    "dfs = []\n",
    "for doc in docs:\n",
    "    dfs.append(parse_migrations_data(doc))\n",
    "dfs.append(madrid_17)"
   ]
  },
  {
   "cell_type": "code",
   "execution_count": 6,
   "metadata": {},
   "outputs": [],
   "source": [
    "dfs_2 = []\n",
    "for i, year in enumerate(years):\n",
    "    dfi = dfs[i].stack().reset_index().rename(columns={\"level_0\":\"origin\",\"level_1\":\"destination\",0:\"count\"})\n",
    "    for column in dfi.columns:\n",
    "        dfi[column] = dfi[column].str.replace(\",\",\"\")\n",
    "    dfi['year'] = year\n",
    "    dfs_2.append(dfi)\n",
    "inner_migrations_madrid = pd.concat(dfs_2)\n",
    "inner_migrations_madrid[\"count\"] = inner_migrations_madrid[\"count\"].str.replace(\".\",\"\")"
   ]
  },
  {
   "cell_type": "code",
   "execution_count": null,
   "metadata": {},
   "outputs": [],
   "source": [
    "#districts_lat_long = pd.read_csv(\"./data/madrid.csv\")"
   ]
  },
  {
   "cell_type": "code",
   "execution_count": null,
   "metadata": {},
   "outputs": [],
   "source": [
    "#inner_migrations_madrid = inner_migrations_madrid.merge(districts_lat_long, left_on=\"origin\", \n",
    "#                              right_on=\"district\").rename(columns={\"lat\":\"lat_origin\", \n",
    "#                                \"lng\":\"lng_origin\"}).drop(['district'], axis=1)"
   ]
  },
  {
   "cell_type": "code",
   "execution_count": null,
   "metadata": {},
   "outputs": [],
   "source": [
    "#inner_migrations_madrid = inner_migrations_madrid.merge(districts_lat_long, left_on=\"destination\", \n",
    "#                              right_on=\"district\").rename(columns={\"lat\":\"lat_destination\", \n",
    "#                                \"lng\":\"lng_destination\"}).drop(['district'], axis=1)"
   ]
  },
  {
   "cell_type": "code",
   "execution_count": null,
   "metadata": {},
   "outputs": [],
   "source": [
    "#inner_migrations_madrid[\"datetime\"] = inner_migrations_madrid[\"year\"].apply(lambda x: datetime.datetime(x,1,1,1,1,0))"
   ]
  },
  {
   "cell_type": "code",
   "execution_count": null,
   "metadata": {},
   "outputs": [],
   "source": [
    "#inner_migrations_madrid_ = inner_migrations_madrid[inner_migrations_madrid[\"destination\"]==\"Centro\"]"
   ]
  },
  {
   "cell_type": "code",
   "execution_count": 7,
   "metadata": {},
   "outputs": [],
   "source": [
    "inner_migrations_madrid.to_csv(\"./data/madrid_internal_migrations.csv\", index=False, encoding=\"utf-8\")"
   ]
  },
  {
   "cell_type": "code",
   "execution_count": null,
   "metadata": {},
   "outputs": [],
   "source": []
  }
 ],
 "metadata": {
  "kernelspec": {
   "display_name": "Python 3",
   "language": "python",
   "name": "python3"
  },
  "language_info": {
   "codemirror_mode": {
    "name": "ipython",
    "version": 3
   },
   "file_extension": ".py",
   "mimetype": "text/x-python",
   "name": "python",
   "nbconvert_exporter": "python",
   "pygments_lexer": "ipython3",
   "version": "3.6.2"
  }
 },
 "nbformat": 4,
 "nbformat_minor": 2
}
